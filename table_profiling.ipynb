{
 "cells": [
  {
   "cell_type": "code",
   "execution_count": null,
   "metadata": {},
   "outputs": [],
   "source": [
    "pip install pandas_profiling"
   ]
  },
  {
   "cell_type": "code",
   "execution_count": 3,
   "metadata": {},
   "outputs": [],
   "source": [
    "import pandas as pd\n",
    "import ydata_profiling as profiling\n",
    "import redshift_connector"
   ]
  },
  {
   "cell_type": "code",
   "execution_count": 5,
   "metadata": {},
   "outputs": [],
   "source": [
    "#Connect to the cluster\n",
    "#Add your connection information here\n",
    ">>>\n",
    ">>> connection = redshift_connector.connect(\n",
    "     host='type_here_the_host_name',\n",
    "     database='database_name',\n",
    "     port=5439,\n",
    "     user='username',\n",
    "     password='password'\n",
    "  )\n",
    "  "
   ]
  },
  {
   "cell_type": "code",
   "execution_count": 11,
   "metadata": {},
   "outputs": [],
   "source": [
    "\n",
    "# Define your SQL query\n",
    "sql_query = \"SELECT * FROM table_name\"\n",
    "\n",
    "# Use pandas.read_sql() to execute the query and load the results into a DataFrame\n",
    "df = pd.read_sql(sql_query, connection)\n",
    "\n",
    "# Get the column names from the cursor description\n",
    "cursor = connection.cursor()\n",
    "cursor.execute(sql_query)\n",
    "column_names = [desc[0] for desc in cursor.description]\n",
    "\n",
    "# Assign the column names to the DataFrame\n",
    "df.columns = column_names"
   ]
  },
  {
   "cell_type": "code",
   "execution_count": null,
   "metadata": {},
   "outputs": [],
   "source": [
    "df.head()"
   ]
  },
  {
   "cell_type": "code",
   "execution_count": null,
   "metadata": {},
   "outputs": [],
   "source": [
    "# Generate a profile report for the DataFrame\n",
    "order_profiling = profiling.ProfileReport(df)"
   ]
  },
  {
   "cell_type": "code",
   "execution_count": null,
   "metadata": {},
   "outputs": [],
   "source": [
    "# Save the profiling report to an HTML file\n",
    "order_profiling.to_file(\"profiling_output.html\")"
   ]
  }
 ],
 "metadata": {
  "kernelspec": {
   "display_name": "libexec",
   "language": "python",
   "name": "python3"
  },
  "language_info": {
   "codemirror_mode": {
    "name": "ipython",
    "version": 3
   },
   "file_extension": ".py",
   "mimetype": "text/x-python",
   "name": "python",
   "nbconvert_exporter": "python",
   "pygments_lexer": "ipython3",
   "version": "3.9.15"
  },
  "orig_nbformat": 4
 },
 "nbformat": 4,
 "nbformat_minor": 2
}
