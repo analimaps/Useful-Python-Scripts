{
 "cells": [
  {
   "cell_type": "code",
   "execution_count": null,
   "metadata": {},
   "outputs": [],
   "source": [
    "pip install pandas_profiling"
   ]
  },
  {
   "cell_type": "code",
   "execution_count": 3,
   "metadata": {},
   "outputs": [],
   "source": [
    "import pandas as pd\n",
    "import ydata_profiling as profiling\n",
    "import redshift_connector"
   ]
  },
  {
   "cell_type": "code",
   "execution_count": 5,
   "metadata": {},
   "outputs": [],
   "source": [
    "#Connect to the cluster\n",
    ">>>\n",
    ">>> connection = redshift_connector.connect(\n",
    "     host='type_here_the_host_name',\n",
    "     database='database_name',\n",
    "     port=5439,\n",
    "     user='username',\n",
    "     password='password'\n",
    "  )\n",
    "  "
   ]
  },
  {
   "cell_type": "code",
   "execution_count": 11,
   "metadata": {},
   "outputs": [],
   "source": [
    "\n",
    "  \n",
    "# Create a Cursor object\n",
    ">>> cursor = connection.cursor()\n",
    "\n",
    "# Query a table using the Cursor\n",
    "cursor.execute(\"SELECT * FROM table'\")\n",
    "query_result = cursor.fetchall()\n",
    "\n",
    "# Get the column names from the cursor description\n",
    "column_names = [desc[0] for desc in cursor.description]\n",
    "\n",
    "# Create a DataFrame with the query result and column names\n",
    "df = pd.DataFrame(query_result, columns=column_names)\n",
    "\n",
    "# Now your DataFrame should have proper column names\n"
   ]
  },
  {
   "cell_type": "code",
   "execution_count": null,
   "metadata": {},
   "outputs": [],
   "source": [
    "df.head()"
   ]
  },
  {
   "cell_type": "code",
   "execution_count": null,
   "metadata": {},
   "outputs": [],
   "source": [
    "order_profiling = profiling.ProfileReport(df)\n",
    "order_profiling.to_file(\"profiling_output.html\")"
   ]
  }
 ],
 "metadata": {
  "kernelspec": {
   "display_name": "libexec",
   "language": "python",
   "name": "python3"
  },
  "language_info": {
   "codemirror_mode": {
    "name": "ipython",
    "version": 3
   },
   "file_extension": ".py",
   "mimetype": "text/x-python",
   "name": "python",
   "nbconvert_exporter": "python",
   "pygments_lexer": "ipython3",
   "version": "3.9.15"
  },
  "orig_nbformat": 4
 },
 "nbformat": 4,
 "nbformat_minor": 2
}
